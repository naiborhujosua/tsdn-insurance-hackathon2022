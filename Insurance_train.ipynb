{
 "cells": [
  {
   "cell_type": "code",
   "execution_count": 21,
   "id": "cc83b031",
   "metadata": {},
   "outputs": [],
   "source": [
    "import pandas as pd \n",
    "# import seaborn as sns \n",
    "import matplotlib.pyplot as plt\n",
    "import numpy as np \n",
    "from sklearn.model_selection import train_test_split\n",
    "from sklearn.ensemble import RandomForestClassifier\n",
    "from sklearn.model_selection import GridSearchCV\n",
    "from pprint import pprint\n",
    "from xgboost import XGBClassifier\n",
    "from xgboost import plot_tree\n",
    "pd.set_option('display.max_columns', 128)\n",
    "from sklearn.metrics import log_loss\n",
    "import pandas as pd\n",
    "import numpy as np\n",
    "import matplotlib.pyplot as plt\n",
    "\n",
    "from pprint import pprint\n",
    "from sklearn.ensemble import GradientBoostingClassifier\n",
    "# from xgboost import XGBClassifier\n",
    "from sklearn.metrics import accuracy_score,roc_auc_score,confusion_matrix\n",
    "# from sklearn.linear_model import LogisticRegression \n",
    "from sklearn.metrics import accuracy_score, f1_score, precision_score, recall_score, classification_report, confusion_matrix,r2_score\n",
    "# import warnings\n",
    "# warnings.filterwarnings('error')\n",
    "# import warnings\n",
    "# from mlxtend.classifier import StackingClassifier\n",
    "# import missingno as msno\n",
    "# from sklearn.ensemble import VotingClassifier\n",
    "# import shap\n",
    "# shap.initjs()\n",
    "# import lime\n",
    "# from lime import lime_tabular\n",
    "# warnings.simplefilter('ignore')"
   ]
  },
  {
   "cell_type": "code",
   "execution_count": 22,
   "id": "612fedec",
   "metadata": {},
   "outputs": [
    {
     "data": {
      "text/html": [
       "<div>\n",
       "<style scoped>\n",
       "    .dataframe tbody tr th:only-of-type {\n",
       "        vertical-align: middle;\n",
       "    }\n",
       "\n",
       "    .dataframe tbody tr th {\n",
       "        vertical-align: top;\n",
       "    }\n",
       "\n",
       "    .dataframe thead th {\n",
       "        text-align: right;\n",
       "    }\n",
       "</style>\n",
       "<table border=\"1\" class=\"dataframe\">\n",
       "  <thead>\n",
       "    <tr style=\"text-align: right;\">\n",
       "      <th></th>\n",
       "      <th>BMI</th>\n",
       "      <th>Medical_History_23</th>\n",
       "      <th>Medical_History_4</th>\n",
       "      <th>Product_Info_4</th>\n",
       "      <th>Wt</th>\n",
       "      <th>Ins_Age</th>\n",
       "      <th>Medical_Keyword_15</th>\n",
       "      <th>Medical_Keyword_3</th>\n",
       "      <th>InsuredInfo_6</th>\n",
       "      <th>Family_Hist_3</th>\n",
       "      <th>Family_Hist_4</th>\n",
       "      <th>Medical_History_30</th>\n",
       "      <th>Response</th>\n",
       "    </tr>\n",
       "  </thead>\n",
       "  <tbody>\n",
       "    <tr>\n",
       "      <th>0</th>\n",
       "      <td>0.323008</td>\n",
       "      <td>3</td>\n",
       "      <td>1</td>\n",
       "      <td>0.076923</td>\n",
       "      <td>0.148536</td>\n",
       "      <td>0.641791</td>\n",
       "      <td>0</td>\n",
       "      <td>0</td>\n",
       "      <td>2</td>\n",
       "      <td>0.598039</td>\n",
       "      <td>NaN</td>\n",
       "      <td>2</td>\n",
       "      <td>1</td>\n",
       "    </tr>\n",
       "    <tr>\n",
       "      <th>1</th>\n",
       "      <td>0.272288</td>\n",
       "      <td>3</td>\n",
       "      <td>1</td>\n",
       "      <td>0.076923</td>\n",
       "      <td>0.131799</td>\n",
       "      <td>0.059701</td>\n",
       "      <td>0</td>\n",
       "      <td>0</td>\n",
       "      <td>2</td>\n",
       "      <td>NaN</td>\n",
       "      <td>0.084507</td>\n",
       "      <td>2</td>\n",
       "      <td>0</td>\n",
       "    </tr>\n",
       "    <tr>\n",
       "      <th>2</th>\n",
       "      <td>0.428780</td>\n",
       "      <td>3</td>\n",
       "      <td>2</td>\n",
       "      <td>0.076923</td>\n",
       "      <td>0.288703</td>\n",
       "      <td>0.029851</td>\n",
       "      <td>0</td>\n",
       "      <td>0</td>\n",
       "      <td>1</td>\n",
       "      <td>NaN</td>\n",
       "      <td>0.225352</td>\n",
       "      <td>2</td>\n",
       "      <td>1</td>\n",
       "    </tr>\n",
       "    <tr>\n",
       "      <th>3</th>\n",
       "      <td>0.352438</td>\n",
       "      <td>3</td>\n",
       "      <td>2</td>\n",
       "      <td>0.487179</td>\n",
       "      <td>0.205021</td>\n",
       "      <td>0.164179</td>\n",
       "      <td>0</td>\n",
       "      <td>0</td>\n",
       "      <td>2</td>\n",
       "      <td>NaN</td>\n",
       "      <td>0.352113</td>\n",
       "      <td>2</td>\n",
       "      <td>1</td>\n",
       "    </tr>\n",
       "    <tr>\n",
       "      <th>4</th>\n",
       "      <td>0.424046</td>\n",
       "      <td>3</td>\n",
       "      <td>2</td>\n",
       "      <td>0.230769</td>\n",
       "      <td>0.234310</td>\n",
       "      <td>0.417910</td>\n",
       "      <td>0</td>\n",
       "      <td>0</td>\n",
       "      <td>2</td>\n",
       "      <td>NaN</td>\n",
       "      <td>0.408451</td>\n",
       "      <td>2</td>\n",
       "      <td>1</td>\n",
       "    </tr>\n",
       "  </tbody>\n",
       "</table>\n",
       "</div>"
      ],
      "text/plain": [
       "        BMI  Medical_History_23  Medical_History_4  Product_Info_4        Wt  \\\n",
       "0  0.323008                   3                  1        0.076923  0.148536   \n",
       "1  0.272288                   3                  1        0.076923  0.131799   \n",
       "2  0.428780                   3                  2        0.076923  0.288703   \n",
       "3  0.352438                   3                  2        0.487179  0.205021   \n",
       "4  0.424046                   3                  2        0.230769  0.234310   \n",
       "\n",
       "    Ins_Age  Medical_Keyword_15  Medical_Keyword_3  InsuredInfo_6  \\\n",
       "0  0.641791                   0                  0              2   \n",
       "1  0.059701                   0                  0              2   \n",
       "2  0.029851                   0                  0              1   \n",
       "3  0.164179                   0                  0              2   \n",
       "4  0.417910                   0                  0              2   \n",
       "\n",
       "   Family_Hist_3  Family_Hist_4  Medical_History_30  Response  \n",
       "0       0.598039            NaN                   2         1  \n",
       "1            NaN       0.084507                   2         0  \n",
       "2            NaN       0.225352                   2         1  \n",
       "3            NaN       0.352113                   2         1  \n",
       "4            NaN       0.408451                   2         1  "
      ]
     },
     "execution_count": 22,
     "metadata": {},
     "output_type": "execute_result"
    }
   ],
   "source": [
    "train = pd.read_csv('insurance_data.csv')\n",
    "train[:5]"
   ]
  },
  {
   "cell_type": "code",
   "execution_count": 23,
   "id": "19c81460",
   "metadata": {},
   "outputs": [],
   "source": [
    "# Data for all the independent variables\n",
    "trans_X = train.drop(labels='Response',axis=1)\n",
    "\n",
    "# Data for the dependent variable\n",
    "trans_Y = train['Response']"
   ]
  },
  {
   "cell_type": "code",
   "execution_count": 24,
   "id": "e915521e",
   "metadata": {},
   "outputs": [
    {
     "data": {
      "text/plain": [
       "BMI                       0\n",
       "Medical_History_23        0\n",
       "Medical_History_4         0\n",
       "Product_Info_4            0\n",
       "Wt                        0\n",
       "Ins_Age                   0\n",
       "Medical_Keyword_15        0\n",
       "Medical_Keyword_3         0\n",
       "InsuredInfo_6             0\n",
       "Family_Hist_3         34241\n",
       "Family_Hist_4         19184\n",
       "Medical_History_30        0\n",
       "Response                  0\n",
       "dtype: int64"
      ]
     },
     "execution_count": 24,
     "metadata": {},
     "output_type": "execute_result"
    }
   ],
   "source": [
    "train.isnull().sum()"
   ]
  },
  {
   "cell_type": "code",
   "execution_count": 25,
   "id": "e558b15d",
   "metadata": {},
   "outputs": [
    {
     "data": {
      "text/plain": [
       "(59381, 13)"
      ]
     },
     "execution_count": 25,
     "metadata": {},
     "output_type": "execute_result"
    }
   ],
   "source": [
    "train.shape"
   ]
  },
  {
   "cell_type": "code",
   "execution_count": 26,
   "id": "06689b8b",
   "metadata": {},
   "outputs": [],
   "source": [
    "# Filling remaining missing values with mean\n",
    "trans_X = trans_X.fillna(trans_X.mean())"
   ]
  },
  {
   "cell_type": "code",
   "execution_count": 27,
   "id": "2d0d7767",
   "metadata": {},
   "outputs": [
    {
     "data": {
      "text/plain": [
       "BMI                   0\n",
       "Medical_History_23    0\n",
       "Medical_History_4     0\n",
       "Product_Info_4        0\n",
       "Wt                    0\n",
       "Ins_Age               0\n",
       "Medical_Keyword_15    0\n",
       "Medical_Keyword_3     0\n",
       "InsuredInfo_6         0\n",
       "Family_Hist_3         0\n",
       "Family_Hist_4         0\n",
       "Medical_History_30    0\n",
       "dtype: int64"
      ]
     },
     "execution_count": 27,
     "metadata": {},
     "output_type": "execute_result"
    }
   ],
   "source": [
    "trans_X.isnull().sum()"
   ]
  },
  {
   "cell_type": "code",
   "execution_count": 28,
   "id": "48e95f2b",
   "metadata": {},
   "outputs": [],
   "source": [
    "# Train-test split\n",
    "X_train, X_test, Y_train, Y_test = train_test_split(trans_X,trans_Y,test_size = 0.2, random_state=1)"
   ]
  },
  {
   "cell_type": "code",
   "execution_count": 29,
   "id": "4978e968",
   "metadata": {},
   "outputs": [],
   "source": [
    "# Utility Functions\n",
    "def check_scores(model, X_train, X_test ):\n",
    "  # Making predictions on train and test data\n",
    "\n",
    "  train_class_preds = model.predict(X_train)\n",
    "  test_class_preds = model.predict(X_test)\n",
    "\n",
    "\n",
    "  # Get the probabilities on train and test\n",
    "  train_preds = model.predict_proba(X_train)[:,1]\n",
    "  test_preds = model.predict_proba(X_test)[:,1]\n",
    "\n",
    "\n",
    "  # Calculating accuracy on train and test\n",
    "  train_accuracy = accuracy_score(Y_train,train_class_preds)\n",
    "  test_accuracy = accuracy_score(Y_test,test_class_preds)\n",
    "\n",
    "  print(\"The accuracy on train dataset is\", train_accuracy)\n",
    "  print(\"The accuracy on test dataset is\", test_accuracy)\n",
    "  print()\n",
    "  # Get the confusion matrices for train and test\n",
    "  train_cm = confusion_matrix(Y_train,train_class_preds)\n",
    "  test_cm = confusion_matrix(Y_test,test_class_preds )\n",
    "\n",
    "  print('Train confusion matrix:')\n",
    "  print( train_cm)\n",
    "  print()\n",
    "  print('Test confusion matrix:')\n",
    "  print(test_cm)\n",
    "  print()\n",
    "\n",
    "  # Get the roc_auc score for train and test dataset\n",
    "  train_auc = roc_auc_score(Y_train,train_preds)\n",
    "  test_auc = roc_auc_score(Y_test,test_preds)\n",
    "\n",
    "  print('ROC on train data:', train_auc)\n",
    "  print('ROC on test data:', test_auc)\n",
    "  \n",
    "  # Fscore, precision and recall on test data\n",
    "  f1 = f1_score(Y_test, test_class_preds)\n",
    "  precision = precision_score(Y_test, test_class_preds)\n",
    "  recall = recall_score(Y_test, test_class_preds) \n",
    "  \n",
    "  \n",
    "  #R2 score on train and test data\n",
    "  train_log = log_loss(Y_train,train_preds)\n",
    "  test_log = log_loss(Y_test, test_preds)\n",
    "\n",
    "  print()\n",
    "  print('Train log loss:', train_log)\n",
    "  print('Test log loss:', test_log)\n",
    "  print()\n",
    "  print(\"F score is:\",f1 )\n",
    "  print(\"Precision is:\",precision)\n",
    "  print(\"Recall is:\", recall)\n",
    "  return model, train_auc, test_auc, train_accuracy, test_accuracy,f1, precision,recall, train_log, test_log\n",
    "\n",
    "def grid_search(model, parameters, X_train, Y_train):\n",
    "  #Doing a grid\n",
    "  grid = GridSearchCV(estimator=model,\n",
    "                       param_grid = parameters,\n",
    "                       cv = 2, verbose=2, scoring='roc_auc')\n",
    "  #Fitting the grid \n",
    "  grid.fit(X_train,Y_train)\n",
    "  print()\n",
    "  print()\n",
    "  # Best model found using grid search\n",
    "  optimal_model = grid.best_estimator_\n",
    "  print('Best parameters are: ')\n",
    "  pprint( grid.best_params_)\n",
    "\n",
    "  return optimal_model\n"
   ]
  },
  {
   "cell_type": "code",
   "execution_count": 30,
   "id": "3739823e",
   "metadata": {},
   "outputs": [
    {
     "name": "stdout",
     "output_type": "stream",
     "text": [
      "{'learning_rate': [0.01, 0.1, 1],\n",
      " 'max_depth': [1, 3, 5, 7],\n",
      " 'n_estimators': [5, 50, 250]}\n",
      "Fitting 2 folds for each of 36 candidates, totalling 72 fits\n",
      "[CV] END ....learning_rate=0.01, max_depth=1, n_estimators=5; total time=   0.1s\n",
      "[CV] END ....learning_rate=0.01, max_depth=1, n_estimators=5; total time=   0.1s\n",
      "[CV] END ...learning_rate=0.01, max_depth=1, n_estimators=50; total time=   0.4s\n",
      "[CV] END ...learning_rate=0.01, max_depth=1, n_estimators=50; total time=   0.4s\n",
      "[CV] END ..learning_rate=0.01, max_depth=1, n_estimators=250; total time=   2.1s\n",
      "[CV] END ..learning_rate=0.01, max_depth=1, n_estimators=250; total time=   2.0s\n",
      "[CV] END ....learning_rate=0.01, max_depth=3, n_estimators=5; total time=   0.1s\n",
      "[CV] END ....learning_rate=0.01, max_depth=3, n_estimators=5; total time=   0.1s\n",
      "[CV] END ...learning_rate=0.01, max_depth=3, n_estimators=50; total time=   1.0s\n",
      "[CV] END ...learning_rate=0.01, max_depth=3, n_estimators=50; total time=   1.0s\n",
      "[CV] END ..learning_rate=0.01, max_depth=3, n_estimators=250; total time=   4.8s\n",
      "[CV] END ..learning_rate=0.01, max_depth=3, n_estimators=250; total time=   4.8s\n",
      "[CV] END ....learning_rate=0.01, max_depth=5, n_estimators=5; total time=   0.2s\n",
      "[CV] END ....learning_rate=0.01, max_depth=5, n_estimators=5; total time=   0.2s\n",
      "[CV] END ...learning_rate=0.01, max_depth=5, n_estimators=50; total time=   1.6s\n",
      "[CV] END ...learning_rate=0.01, max_depth=5, n_estimators=50; total time=   1.5s\n",
      "[CV] END ..learning_rate=0.01, max_depth=5, n_estimators=250; total time=   7.7s\n",
      "[CV] END ..learning_rate=0.01, max_depth=5, n_estimators=250; total time=   7.7s\n",
      "[CV] END ....learning_rate=0.01, max_depth=7, n_estimators=5; total time=   0.2s\n",
      "[CV] END ....learning_rate=0.01, max_depth=7, n_estimators=5; total time=   0.2s\n",
      "[CV] END ...learning_rate=0.01, max_depth=7, n_estimators=50; total time=   2.2s\n",
      "[CV] END ...learning_rate=0.01, max_depth=7, n_estimators=50; total time=   2.2s\n",
      "[CV] END ..learning_rate=0.01, max_depth=7, n_estimators=250; total time=  11.1s\n",
      "[CV] END ..learning_rate=0.01, max_depth=7, n_estimators=250; total time=  11.1s\n",
      "[CV] END .....learning_rate=0.1, max_depth=1, n_estimators=5; total time=   0.1s\n",
      "[CV] END .....learning_rate=0.1, max_depth=1, n_estimators=5; total time=   0.1s\n",
      "[CV] END ....learning_rate=0.1, max_depth=1, n_estimators=50; total time=   0.4s\n",
      "[CV] END ....learning_rate=0.1, max_depth=1, n_estimators=50; total time=   0.4s\n",
      "[CV] END ...learning_rate=0.1, max_depth=1, n_estimators=250; total time=   2.0s\n",
      "[CV] END ...learning_rate=0.1, max_depth=1, n_estimators=250; total time=   2.0s\n",
      "[CV] END .....learning_rate=0.1, max_depth=3, n_estimators=5; total time=   0.1s\n",
      "[CV] END .....learning_rate=0.1, max_depth=3, n_estimators=5; total time=   0.1s\n",
      "[CV] END ....learning_rate=0.1, max_depth=3, n_estimators=50; total time=   1.0s\n",
      "[CV] END ....learning_rate=0.1, max_depth=3, n_estimators=50; total time=   1.0s\n",
      "[CV] END ...learning_rate=0.1, max_depth=3, n_estimators=250; total time=   4.7s\n",
      "[CV] END ...learning_rate=0.1, max_depth=3, n_estimators=250; total time=   4.7s\n",
      "[CV] END .....learning_rate=0.1, max_depth=5, n_estimators=5; total time=   0.2s\n",
      "[CV] END .....learning_rate=0.1, max_depth=5, n_estimators=5; total time=   0.2s\n",
      "[CV] END ....learning_rate=0.1, max_depth=5, n_estimators=50; total time=   1.5s\n",
      "[CV] END ....learning_rate=0.1, max_depth=5, n_estimators=50; total time=   1.5s\n",
      "[CV] END ...learning_rate=0.1, max_depth=5, n_estimators=250; total time=   7.6s\n",
      "[CV] END ...learning_rate=0.1, max_depth=5, n_estimators=250; total time=   7.7s\n",
      "[CV] END .....learning_rate=0.1, max_depth=7, n_estimators=5; total time=   0.2s\n",
      "[CV] END .....learning_rate=0.1, max_depth=7, n_estimators=5; total time=   0.2s\n",
      "[CV] END ....learning_rate=0.1, max_depth=7, n_estimators=50; total time=   2.2s\n",
      "[CV] END ....learning_rate=0.1, max_depth=7, n_estimators=50; total time=   2.2s\n",
      "[CV] END ...learning_rate=0.1, max_depth=7, n_estimators=250; total time=  10.9s\n",
      "[CV] END ...learning_rate=0.1, max_depth=7, n_estimators=250; total time=  10.9s\n",
      "[CV] END .......learning_rate=1, max_depth=1, n_estimators=5; total time=   0.1s\n",
      "[CV] END .......learning_rate=1, max_depth=1, n_estimators=5; total time=   0.1s\n",
      "[CV] END ......learning_rate=1, max_depth=1, n_estimators=50; total time=   0.4s\n",
      "[CV] END ......learning_rate=1, max_depth=1, n_estimators=50; total time=   0.4s\n",
      "[CV] END .....learning_rate=1, max_depth=1, n_estimators=250; total time=   2.0s\n",
      "[CV] END .....learning_rate=1, max_depth=1, n_estimators=250; total time=   2.0s\n",
      "[CV] END .......learning_rate=1, max_depth=3, n_estimators=5; total time=   0.1s\n",
      "[CV] END .......learning_rate=1, max_depth=3, n_estimators=5; total time=   0.1s\n",
      "[CV] END ......learning_rate=1, max_depth=3, n_estimators=50; total time=   1.0s\n",
      "[CV] END ......learning_rate=1, max_depth=3, n_estimators=50; total time=   1.0s\n",
      "[CV] END .....learning_rate=1, max_depth=3, n_estimators=250; total time=   4.7s\n",
      "[CV] END .....learning_rate=1, max_depth=3, n_estimators=250; total time=   4.7s\n",
      "[CV] END .......learning_rate=1, max_depth=5, n_estimators=5; total time=   0.2s\n",
      "[CV] END .......learning_rate=1, max_depth=5, n_estimators=5; total time=   0.2s\n",
      "[CV] END ......learning_rate=1, max_depth=5, n_estimators=50; total time=   1.5s\n",
      "[CV] END ......learning_rate=1, max_depth=5, n_estimators=50; total time=   1.5s\n",
      "[CV] END .....learning_rate=1, max_depth=5, n_estimators=250; total time=   7.6s\n",
      "[CV] END .....learning_rate=1, max_depth=5, n_estimators=250; total time=   7.5s\n",
      "[CV] END .......learning_rate=1, max_depth=7, n_estimators=5; total time=   0.2s\n",
      "[CV] END .......learning_rate=1, max_depth=7, n_estimators=5; total time=   0.2s\n",
      "[CV] END ......learning_rate=1, max_depth=7, n_estimators=50; total time=   2.2s\n",
      "[CV] END ......learning_rate=1, max_depth=7, n_estimators=50; total time=   2.2s\n",
      "[CV] END .....learning_rate=1, max_depth=7, n_estimators=250; total time=  10.5s\n",
      "[CV] END .....learning_rate=1, max_depth=7, n_estimators=250; total time=  10.6s\n",
      "\n",
      "\n",
      "Best parameters are: \n",
      "{'learning_rate': 0.1, 'max_depth': 3, 'n_estimators': 250}\n"
     ]
    }
   ],
   "source": [
    "#finding the best model\n",
    "gb_parameters ={\n",
    "    \"n_estimators\":[5,50,250],\n",
    "    \"max_depth\":[1,3,5,7],\n",
    "    \"learning_rate\":[0.01,0.1,1]\n",
    "}\n",
    "\n",
    "pprint(gb_parameters)\n",
    "\n",
    "gb_optimal_model = grid_search(GradientBoostingClassifier(), gb_parameters, X_train, Y_train)"
   ]
  },
  {
   "cell_type": "code",
   "execution_count": 31,
   "id": "405a6bfa",
   "metadata": {},
   "outputs": [
    {
     "name": "stdout",
     "output_type": "stream",
     "text": [
      "The accuracy on train dataset is 0.8239516672280229\n",
      "The accuracy on test dataset is 0.8227666919255704\n",
      "\n",
      "Train confusion matrix:\n",
      "[[27365  4508]\n",
      " [ 3855 11776]]\n",
      "\n",
      "Test confusion matrix:\n",
      "[[6879 1140]\n",
      " [ 965 2893]]\n",
      "\n",
      "ROC on train data: 0.901887682346118\n",
      "ROC on test data: 0.8979983774926462\n",
      "\n",
      "Train log loss: 0.36586784407928885\n",
      "Test log loss: 0.37025812006534975\n",
      "\n",
      "F score is: 0.7332404004562159\n",
      "Precision is: 0.7173320109099925\n",
      "Recall is: 0.7498703991705546\n"
     ]
    }
   ],
   "source": [
    "# Getting the scpres for all the score metrics used here\n",
    "gb_model, gb_train_auc, gb_test_auc, gb_train_accuracy, gb_test_accuracy,gb_f1, gb_precision,gb_recall,gb_train_log, gb_test_log = check_scores(gb_optimal_model, X_train, X_test )"
   ]
  },
  {
   "cell_type": "code",
   "execution_count": 32,
   "id": "ba46539d",
   "metadata": {},
   "outputs": [
    {
     "data": {
      "image/png": "[encoded data removed]",
      "text/plain": [
       "<Figure size 500x700 with 1 Axes>"
      ]
     },
     "metadata": {},
     "output_type": "display_data"
    }
   ],
   "source": [
    "# Plot feature importance\n",
    "feature_importance = gb_model.feature_importances_\n",
    "feature_importance = 100.0 * (feature_importance / feature_importance.max())\n",
    "sorted_idx = np.argsort(feature_importance)\n",
    "pos = np.arange(sorted_idx.shape[0]) + .5\n",
    "\n",
    "plt.figure(figsize=(5,7))\n",
    "plt.barh(pos, feature_importance[sorted_idx], align='center')\n",
    "plt.yticks(pos, X_train.columns[sorted_idx])\n",
    "plt.xlabel('Relative Importance')\n",
    "plt.title('Variable Importance')\n",
    "plt.show()"
   ]
  },
  {
   "cell_type": "code",
   "execution_count": 33,
   "id": "be7450e0",
   "metadata": {},
   "outputs": [],
   "source": [
    "import pickle"
   ]
  },
  {
   "cell_type": "code",
   "execution_count": 34,
   "id": "d42d596f",
   "metadata": {},
   "outputs": [
    {
     "data": {
      "text/plain": [
       "array([[0.99833517, 0.00166483],\n",
       "       [0.26865148, 0.73134852],\n",
       "       [0.70020522, 0.29979478],\n",
       "       ...,\n",
       "       [0.34485453, 0.65514547],\n",
       "       [0.14770333, 0.85229667],\n",
       "       [0.85488584, 0.14511416]])"
      ]
     },
     "execution_count": 34,
     "metadata": {},
     "output_type": "execute_result"
    }
   ],
   "source": [
    "y_pred =gb_optimal_model.predict_proba(X_test)\n",
    "y_pred"
   ]
  },
  {
   "cell_type": "code",
   "execution_count": 35,
   "id": "6bafc0cb",
   "metadata": {},
   "outputs": [],
   "source": [
    "#data ={\"model\":gb_optimal_model,}\n",
    "with open(\"saved_steps.pkl\",\"wb\") as file:\n",
    "    pickle.dump(X_test,file)"
   ]
  },
  {
   "cell_type": "code",
   "execution_count": 36,
   "id": "3412b396",
   "metadata": {},
   "outputs": [],
   "source": [
    "with open(\"saved_steps.pkl\",\"rb\") as file:\n",
    "    data =pickle.load(file)"
   ]
  },
  {
   "cell_type": "code",
   "execution_count": null,
   "id": "8cc8a7ae",
   "metadata": {},
   "outputs": [],
   "source": []
  }
 ],
 "metadata": {
  "kernelspec": {
   "display_name": "Python 3 (ipykernel)",
   "language": "python",
   "name": "python3"
  },
  "language_info": {
   "codemirror_mode": {
    "name": "ipython",
    "version": 3
   },
   "file_extension": ".py",
   "mimetype": "text/x-python",
   "name": "python",
   "nbconvert_exporter": "python",
   "pygments_lexer": "ipython3",
   "version": "3.9.15"
  }
 },
 "nbformat": 4,
 "nbformat_minor": 5
}
